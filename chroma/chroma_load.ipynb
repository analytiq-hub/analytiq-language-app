{
 "cells": [
  {
   "cell_type": "markdown",
   "id": "22575f8d-aba0-48a1-b822-6ffe91535c4f",
   "metadata": {},
   "source": [
    "## Start ChromaDB Container\n",
    "\n",
    "* Clone the chromadb sandbox\n",
    "  ```sh\n",
    "  git clone git@github.com:chroma-core/chroma.git\n",
    "  ```\n",
    "\n",
    "* Edit the `docker-compose.yml` file and add `ALLOW_RESET=TRUE` under `environment`. Set port from `8000` to `8002` to not conflict with `airbyte`:\n",
    "  ```yaml\n",
    "      ...\n",
    "      command: uvicorn chromadb.app:app --reload --workers 1 --host 0.0.0.0 --port 8002 --log-config log_config.yml\n",
    "      environment:\n",
    "        - IS_PERSISTENT=TRUE\n",
    "        - ALLOW_RESET=TRUE\n",
    "      ports:\n",
    "        - 8002:8002\n",
    "      ...\n",
    "  ```\n",
    "\n",
    "* Run `docker-compose up -d --build` to start ChromaDB\n",
    "* To shut it down, run `docker-compose down`"
   ]
  },
  {
   "cell_type": "markdown",
   "id": "7527b478-b519-400a-947a-01ae5815141b",
   "metadata": {},
   "source": [
    "## Load all files under ../data into ChromaDB"
   ]
  },
  {
   "cell_type": "code",
   "execution_count": 1,
   "id": "09892f1d-925d-4554-aae4-74783745fd48",
   "metadata": {},
   "outputs": [],
   "source": [
    "from tqdm import tqdm\n",
    "from langchain.embeddings.sentence_transformer import SentenceTransformerEmbeddings\n",
    "from langchain.text_splitter import CharacterTextSplitter\n",
    "from langchain.vectorstores import Chroma\n",
    "from langchain.document_loaders import DirectoryLoader"
   ]
  },
  {
   "cell_type": "code",
   "execution_count": 2,
   "id": "80d8807b",
   "metadata": {},
   "outputs": [],
   "source": [
    "# create the chroma client\n",
    "import chromadb\n",
    "import uuid\n",
    "from chromadb.config import Settings\n",
    "\n",
    "client = chromadb.HttpClient(port=8002, settings=Settings(allow_reset=True))\n",
    "\n",
    "# create the open-source embedding function\n",
    "embedding_function = SentenceTransformerEmbeddings(model_name=\"all-MiniLM-L6-v2\")"
   ]
  },
  {
   "cell_type": "code",
   "execution_count": 24,
   "id": "defc31a3-efb5-4743-b269-480bff1e653a",
   "metadata": {},
   "outputs": [
    {
     "data": {
      "text/plain": [
       "[Collection(name=pypdf), Collection(name=test), Collection(name=default)]"
      ]
     },
     "execution_count": 24,
     "metadata": {},
     "output_type": "execute_result"
    }
   ],
   "source": [
    "client.list_collections()\n",
    "# To delete a collection:\n",
    "#client.delete_collection(\"public_records\")"
   ]
  },
  {
   "cell_type": "code",
   "execution_count": 23,
   "id": "27cfc5d3-c296-4393-9410-812f6d28e171",
   "metadata": {},
   "outputs": [
    {
     "name": "stdout",
     "output_type": "stream",
     "text": [
      "Retrieved collection default\n"
     ]
    }
   ],
   "source": [
    "collection_name = \"default\"\n",
    "try:\n",
    "    collection = client.get_collection(collection_name)\n",
    "    print(f\"Retrieved collection {collection_name}\")\n",
    "except:\n",
    "    collection = client.create_collection(collection_name)\n",
    "    print(f\"Created collection {collection_name}\")"
   ]
  },
  {
   "cell_type": "code",
   "execution_count": 22,
   "id": "53318ea1-65e1-49f6-9bd4-57837c896458",
   "metadata": {},
   "outputs": [
    {
     "data": {
      "text/plain": [
       "{'2021_stm_final_warrant_to_print_10.14.21_date_insterted.pdf',\n",
       " 'FY2024_Brown_Book.pdf'}"
      ]
     },
     "execution_count": 22,
     "metadata": {},
     "output_type": "execute_result"
    }
   ],
   "source": [
    "# List the number of files in the collection\n",
    "fname_set = set()\n",
    "\n",
    "# Get the documents\n",
    "offset = 0\n",
    "while True:\n",
    "    result = collection.get(limit=1000, offset=offset, include=[\"metadatas\"])\n",
    "    result_size = len(result[\"metadatas\"])\n",
    "    if result_size == 0:\n",
    "        break\n",
    "    offset += result_size\n",
    "    for metadata in result[\"metadatas\"]:\n",
    "        if \"file_name\" not in metadata:\n",
    "            print(metadata)\n",
    "        fname_set.add(metadata[\"file_name\"])\n",
    "\n",
    "fname_set"
   ]
  },
  {
   "cell_type": "code",
   "execution_count": 13,
   "id": "7c47fe98",
   "metadata": {
    "scrolled": true
   },
   "outputs": [
    {
     "name": "stderr",
     "output_type": "stream",
     "text": [
      "100%|████████████████████████████████████████████████████████████████████████████████████████████████████████████████████████████████████████████████████████| 18/18 [02:08<00:00,  7.11s/it]\n",
      "Created a chunk of size 1079, which is longer than the specified 1000\n",
      "Created a chunk of size 1205, which is longer than the specified 1000\n",
      "Created a chunk of size 2448, which is longer than the specified 1000\n",
      "Created a chunk of size 1251, which is longer than the specified 1000\n",
      "Created a chunk of size 1908, which is longer than the specified 1000\n",
      "Created a chunk of size 1818, which is longer than the specified 1000\n",
      "Created a chunk of size 1446, which is longer than the specified 1000\n",
      "Created a chunk of size 1259, which is longer than the specified 1000\n",
      "Created a chunk of size 1208, which is longer than the specified 1000\n",
      "Created a chunk of size 1087, which is longer than the specified 1000\n",
      "Created a chunk of size 1243, which is longer than the specified 1000\n",
      "Created a chunk of size 1249, which is longer than the specified 1000\n",
      "Created a chunk of size 1170, which is longer than the specified 1000\n",
      "Created a chunk of size 1315, which is longer than the specified 1000\n",
      "Created a chunk of size 2266, which is longer than the specified 1000\n",
      "Created a chunk of size 1186, which is longer than the specified 1000\n",
      "Created a chunk of size 1027, which is longer than the specified 1000\n",
      "Created a chunk of size 1454, which is longer than the specified 1000\n",
      "Created a chunk of size 1555, which is longer than the specified 1000\n",
      "Created a chunk of size 1011, which is longer than the specified 1000\n",
      "Created a chunk of size 1100, which is longer than the specified 1000\n",
      "Created a chunk of size 1594, which is longer than the specified 1000\n",
      "Created a chunk of size 1446, which is longer than the specified 1000\n",
      "Created a chunk of size 1027, which is longer than the specified 1000\n",
      "Created a chunk of size 1062, which is longer than the specified 1000\n",
      "Created a chunk of size 1147, which is longer than the specified 1000\n",
      "Created a chunk of size 1024, which is longer than the specified 1000\n",
      "Created a chunk of size 1074, which is longer than the specified 1000\n",
      "Created a chunk of size 1634, which is longer than the specified 1000\n",
      "Created a chunk of size 1068, which is longer than the specified 1000\n",
      "Created a chunk of size 1055, which is longer than the specified 1000\n",
      "Created a chunk of size 1111, which is longer than the specified 1000\n",
      "Created a chunk of size 1078, which is longer than the specified 1000\n",
      "Created a chunk of size 1079, which is longer than the specified 1000\n",
      "Created a chunk of size 1079, which is longer than the specified 1000\n",
      "Created a chunk of size 1332, which is longer than the specified 1000\n",
      "Created a chunk of size 1438, which is longer than the specified 1000\n",
      "Created a chunk of size 1026, which is longer than the specified 1000\n",
      "Created a chunk of size 1365, which is longer than the specified 1000\n",
      "Created a chunk of size 1152, which is longer than the specified 1000\n",
      "Created a chunk of size 1187, which is longer than the specified 1000\n",
      "Created a chunk of size 1068, which is longer than the specified 1000\n",
      "Created a chunk of size 1607, which is longer than the specified 1000\n",
      "Created a chunk of size 1405, which is longer than the specified 1000\n",
      "Created a chunk of size 1314, which is longer than the specified 1000\n",
      "Created a chunk of size 2282, which is longer than the specified 1000\n",
      "Created a chunk of size 1119, which is longer than the specified 1000\n",
      "Created a chunk of size 1014, which is longer than the specified 1000\n",
      "Created a chunk of size 1004, which is longer than the specified 1000\n",
      "Created a chunk of size 1415, which is longer than the specified 1000\n",
      "Created a chunk of size 1112, which is longer than the specified 1000\n",
      "Created a chunk of size 1138, which is longer than the specified 1000\n",
      "Created a chunk of size 1102, which is longer than the specified 1000\n",
      "Created a chunk of size 1179, which is longer than the specified 1000\n",
      "Created a chunk of size 1130, which is longer than the specified 1000\n",
      "Created a chunk of size 1068, which is longer than the specified 1000\n",
      "Created a chunk of size 1034, which is longer than the specified 1000\n",
      "Created a chunk of size 1323, which is longer than the specified 1000\n",
      "Created a chunk of size 1329, which is longer than the specified 1000\n",
      "Created a chunk of size 1036, which is longer than the specified 1000\n",
      "Created a chunk of size 1274, which is longer than the specified 1000\n",
      "Created a chunk of size 1079, which is longer than the specified 1000\n",
      "Created a chunk of size 1332, which is longer than the specified 1000\n",
      "Created a chunk of size 1365, which is longer than the specified 1000\n",
      "Created a chunk of size 1099, which is longer than the specified 1000\n",
      "Created a chunk of size 1062, which is longer than the specified 1000\n",
      "Created a chunk of size 1207, which is longer than the specified 1000\n",
      "Created a chunk of size 1099, which is longer than the specified 1000\n",
      "Created a chunk of size 3916, which is longer than the specified 1000\n",
      "Created a chunk of size 1250, which is longer than the specified 1000\n",
      "Created a chunk of size 2304, which is longer than the specified 1000\n",
      "Created a chunk of size 1026, which is longer than the specified 1000\n",
      "Created a chunk of size 1165, which is longer than the specified 1000\n",
      "Created a chunk of size 1893, which is longer than the specified 1000\n",
      "Created a chunk of size 1035, which is longer than the specified 1000\n",
      "Created a chunk of size 1131, which is longer than the specified 1000\n",
      "Created a chunk of size 1501, which is longer than the specified 1000\n",
      "Created a chunk of size 1031, which is longer than the specified 1000\n",
      "Created a chunk of size 1208, which is longer than the specified 1000\n",
      "Created a chunk of size 1530, which is longer than the specified 1000\n",
      "Created a chunk of size 1557, which is longer than the specified 1000\n",
      "Created a chunk of size 1041, which is longer than the specified 1000\n",
      "Created a chunk of size 1366, which is longer than the specified 1000\n",
      "Created a chunk of size 1450, which is longer than the specified 1000\n",
      "Created a chunk of size 1056, which is longer than the specified 1000\n",
      "Created a chunk of size 1508, which is longer than the specified 1000\n",
      "Created a chunk of size 1014, which is longer than the specified 1000\n",
      "Created a chunk of size 1099, which is longer than the specified 1000\n",
      "Created a chunk of size 2557, which is longer than the specified 1000\n",
      "Created a chunk of size 1068, which is longer than the specified 1000\n",
      "Created a chunk of size 1598, which is longer than the specified 1000\n",
      "Created a chunk of size 1706, which is longer than the specified 1000\n",
      "Created a chunk of size 4110, which is longer than the specified 1000\n",
      "Created a chunk of size 1494, which is longer than the specified 1000\n",
      "Created a chunk of size 2083, which is longer than the specified 1000\n",
      "Created a chunk of size 1165, which is longer than the specified 1000\n",
      "Created a chunk of size 1984, which is longer than the specified 1000\n",
      "Created a chunk of size 1080, which is longer than the specified 1000\n",
      "Created a chunk of size 1160, which is longer than the specified 1000\n",
      "Created a chunk of size 1965, which is longer than the specified 1000\n",
      "Created a chunk of size 1131, which is longer than the specified 1000\n",
      "Created a chunk of size 1037, which is longer than the specified 1000\n",
      "Created a chunk of size 1189, which is longer than the specified 1000\n",
      "Created a chunk of size 1024, which is longer than the specified 1000\n",
      "Created a chunk of size 1165, which is longer than the specified 1000\n",
      "Created a chunk of size 1207, which is longer than the specified 1000\n",
      "Created a chunk of size 1041, which is longer than the specified 1000\n",
      "Created a chunk of size 1525, which is longer than the specified 1000\n",
      "Created a chunk of size 1033, which is longer than the specified 1000\n",
      "Created a chunk of size 1507, which is longer than the specified 1000\n",
      "Created a chunk of size 1041, which is longer than the specified 1000\n",
      "Created a chunk of size 1099, which is longer than the specified 1000\n",
      "Created a chunk of size 2388, which is longer than the specified 1000\n",
      "Created a chunk of size 2906, which is longer than the specified 1000\n",
      "Created a chunk of size 1295, which is longer than the specified 1000\n",
      "Created a chunk of size 1040, which is longer than the specified 1000\n",
      "Created a chunk of size 1779, which is longer than the specified 1000\n",
      "Created a chunk of size 1299, which is longer than the specified 1000\n",
      "Created a chunk of size 1057, which is longer than the specified 1000\n",
      "Created a chunk of size 1033, which is longer than the specified 1000\n",
      "Created a chunk of size 1062, which is longer than the specified 1000\n",
      "Created a chunk of size 1275, which is longer than the specified 1000\n",
      "Created a chunk of size 1387, which is longer than the specified 1000\n",
      "Created a chunk of size 1351, which is longer than the specified 1000\n",
      "Created a chunk of size 1045, which is longer than the specified 1000\n",
      "Created a chunk of size 1028, which is longer than the specified 1000\n",
      "Created a chunk of size 1415, which is longer than the specified 1000\n",
      "Created a chunk of size 1006, which is longer than the specified 1000\n",
      "Created a chunk of size 1465, which is longer than the specified 1000\n",
      "Created a chunk of size 2838, which is longer than the specified 1000\n",
      "Created a chunk of size 1040, which is longer than the specified 1000\n",
      "Created a chunk of size 1057, which is longer than the specified 1000\n",
      "Created a chunk of size 1068, which is longer than the specified 1000\n",
      "Created a chunk of size 1275, which is longer than the specified 1000\n",
      "Created a chunk of size 1447, which is longer than the specified 1000\n",
      "Created a chunk of size 1028, which is longer than the specified 1000\n",
      "Created a chunk of size 1414, which is longer than the specified 1000\n",
      "Created a chunk of size 1037, which is longer than the specified 1000\n",
      "Created a chunk of size 1997, which is longer than the specified 1000\n"
     ]
    }
   ],
   "source": [
    "# load the document and split it into chunks\n",
    "loader = DirectoryLoader('/home/andrei/build/data', glob='*.pdf', show_progress=True, use_multithreading=True)\n",
    "docs = loader.load()\n",
    "\n",
    "# split it into chunks\n",
    "text_splitter = CharacterTextSplitter(chunk_size=1000, chunk_overlap=100)\n",
    "split_docs = text_splitter.split_documents(docs)"
   ]
  },
  {
   "cell_type": "code",
   "execution_count": 15,
   "id": "e8dd8460-e172-4544-8b4e-0da515aa3e90",
   "metadata": {},
   "outputs": [
    {
     "name": "stdout",
     "output_type": "stream",
     "text": [
      "Created collection public_records\n"
     ]
    },
    {
     "name": "stderr",
     "output_type": "stream",
     "text": [
      "100%|████████████████████████████████████████████████████████████████████████████████████████████████████████████████████████████████████████████████████| 3012/3012 [02:26<00:00, 20.60it/s]\n"
     ]
    }
   ],
   "source": [
    "# client.reset()  # resetting the database deletes all collections\n",
    "\n",
    "collection_name = \"default\"\n",
    "try:\n",
    "    collection = client.get_collection(collection_name)\n",
    "    print(f\"Retrieved collection {public_records}\")\n",
    "except:\n",
    "    collection = client.create_collection(collection_name)\n",
    "    print(f\"Created collection {collection_name}\")\n",
    "\n",
    "for doc in tqdm(split_docs):\n",
    "    collection.add(\n",
    "        ids=[str(uuid.uuid1())], \n",
    "        documents=doc.page_content,\n",
    "        metadatas=doc.metadata\n",
    "    )"
   ]
  },
  {
   "cell_type": "code",
   "execution_count": 5,
   "id": "1fd33b66",
   "metadata": {},
   "outputs": [
    {
     "name": "stdout",
     "output_type": "stream",
     "text": [
      "{'file_name': 'FY2023_Brown_Book.pdf', 'type': 'Brown Book', 'uuid': 'd0c08154-525c-4d4d-abce-1b4542aefc9c', 'year': '2022'}\n",
      "{'file_name': 'FY2024_Brown_Book.pdf', 'type': 'Brown Book', 'uuid': 'a2cc48e6-1ef3-44a4-9621-e2ef1bda78a1', 'year': '2023'}\n",
      "{'file_name': 'Art_2_report_Appropriation_committee_posted_3.21.23.pdf', 'type': 'Appropriation Committee Report', 'uuid': 'b2f39a07-1f8b-40f7-b939-3fac6a19ae5b', 'year': '2023'}\n",
      "{'file_name': 'Capital_expenditures_committee_report_to_2022_atm_stms_2022-1_-2_final.pdf', 'type': 'Capital Expenditures Committee Report', 'uuid': '1e130103-7358-42bb-8845-8e62b5182907', 'year': '2022'}\n"
     ]
    }
   ],
   "source": [
    "# tell LangChain to use our client and collection name\n",
    "db4 = Chroma(client=client, collection_name=collection_name, embedding_function=embedding_function)\n",
    "query = \"What is the Police Dept budget this year?\"\n",
    "docs = db4.similarity_search(query)\n",
    "for doc in docs:\n",
    "    print(doc.metadata)\n",
    "    #print(doc.page_content)"
   ]
  },
  {
   "cell_type": "code",
   "execution_count": 17,
   "id": "b1dbc58b",
   "metadata": {},
   "outputs": [
    {
     "data": {
      "text/plain": [
       "3012"
      ]
     },
     "execution_count": 17,
     "metadata": {},
     "output_type": "execute_result"
    }
   ],
   "source": [
    "# get an existing collection\n",
    "collection = client.get_collection(collection_name)\n",
    "collection.count()"
   ]
  },
  {
   "cell_type": "markdown",
   "id": "2d00a7c9",
   "metadata": {},
   "source": [
    "## Q&A With Chroma"
   ]
  },
  {
   "cell_type": "code",
   "execution_count": 18,
   "id": "800bcecc",
   "metadata": {},
   "outputs": [],
   "source": [
    "from langchain.chains import RetrievalQA\n",
    "from langchain.llms import OpenAI\n",
    "\n",
    "qa = RetrievalQA.from_chain_type(llm=OpenAI(), chain_type=\"stuff\", retriever=db4.as_retriever())"
   ]
  },
  {
   "cell_type": "code",
   "execution_count": 21,
   "id": "37f70dbc",
   "metadata": {},
   "outputs": [
    {
     "data": {
      "text/plain": [
       "' The FY2023 Police Dept budget is $8,265,377, which is a 1.49% increase from the FY2022 budget. The FY2024 recommended Police Dept budget is $9,042,530 which is a 9.40% increase from the FY2023 budget.'"
      ]
     },
     "execution_count": 21,
     "metadata": {},
     "output_type": "execute_result"
    }
   ],
   "source": [
    "qa.run(\"What is the trend in the Police Dept budget in FY2023 versus 2024?\")"
   ]
  },
  {
   "cell_type": "code",
   "execution_count": 22,
   "id": "e2290f39-d8bd-4ced-af6a-b0d758c963f0",
   "metadata": {},
   "outputs": [],
   "source": [
    "from langchain.chains import RetrievalQAWithSourcesChain\n",
    "from langchain.llms import OpenAI\n",
    "\n",
    "qa2 = RetrievalQAWithSourcesChain.from_chain_type(llm=OpenAI(), chain_type=\"stuff\", retriever=db4.as_retriever())"
   ]
  },
  {
   "cell_type": "code",
   "execution_count": 24,
   "id": "db542a5e-af44-41d8-b31a-0d2f968a2d2e",
   "metadata": {},
   "outputs": [
    {
     "data": {
      "text/plain": [
       "{'answer': ' The Police Department currently has 73 FTEs including 8 command officers, 34 patrol sergeants and officers, 8 detectives, 10 civilian dispatchers, school crossing guards, and administration staff.\\n',\n",
       " 'sources': '/home/andrei/build/data/Acreport2022atm-20220321-v2_1.pdf, /home/andrei/build/data/FY2023_Brown_Book.pdf, /home/andrei/build/data/FY2024_Brown_Book.pdf'}"
      ]
     },
     "execution_count": 24,
     "metadata": {},
     "output_type": "execute_result"
    }
   ],
   "source": [
    "qa2(\n",
    "    {\"question\": \"What is the number of employees in the Police Dept? Give a full description\"},\n",
    "    return_only_outputs=True,\n",
    ")"
   ]
  }
 ],
 "metadata": {
  "kernelspec": {
   "display_name": "streamlit",
   "language": "python",
   "name": "streamlit"
  },
  "language_info": {
   "codemirror_mode": {
    "name": "ipython",
    "version": 3
   },
   "file_extension": ".py",
   "mimetype": "text/x-python",
   "name": "python",
   "nbconvert_exporter": "python",
   "pygments_lexer": "ipython3",
   "version": "3.10.12"
  }
 },
 "nbformat": 4,
 "nbformat_minor": 5
}
